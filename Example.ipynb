{
 "metadata": {
  "name": "",
  "signature": "sha256:8b351b8790acfe37483867a35d1d4d7187b8fbccc16e325afdabfb461057f14d"
 },
 "nbformat": 3,
 "nbformat_minor": 0,
 "worksheets": [
  {
   "cells": [
    {
     "cell_type": "code",
     "collapsed": false,
     "input": [
      "%load_ext autoreload\n",
      "%autoreload 2\n",
      "%matplotlib inline\n",
      "import pandas as pd\n",
      "import numpy as np\n",
      "from pyaccess import networkpandas as nwp\n",
      "import geopandas.io.osm as osm"
     ],
     "language": "python",
     "metadata": {},
     "outputs": [],
     "prompt_number": 1
    },
    {
     "cell_type": "heading",
     "level": 3,
     "metadata": {},
     "source": [
      "Download OpenStreetMap cafes for a good part of the Bay Area"
     ]
    },
    {
     "cell_type": "heading",
     "level": 6,
     "metadata": {},
     "source": [
      "Note: used http://boundingbox.klokantech.com/ to get the bounding box"
     ]
    },
    {
     "cell_type": "code",
     "collapsed": false,
     "input": [
      "gdf = osm.query_osm('node', bbox=[-122.8662,37.1373,-121.4798,38.2158], tags='amenity=restaurant')"
     ],
     "language": "python",
     "metadata": {},
     "outputs": [],
     "prompt_number": 4
    },
    {
     "cell_type": "code",
     "collapsed": false,
     "input": [
      "gdf = gdf[gdf.type == 'Point']\n",
      "gdf = gdf.to_crs(epsg=3740)\n",
      "print gdf.geometry.head()\n",
      "print len(gdf)"
     ],
     "language": "python",
     "metadata": {},
     "outputs": [
      {
       "output_type": "stream",
       "stream": "stdout",
       "text": [
        "0    POINT (552229.6292815214 4167160.600476303)\n",
        "1     POINT (558500.925561578 4159224.300236977)\n",
        "2    POINT (586325.2174658153 4135541.102330211)\n",
        "3    POINT (585308.3155669109 4136203.677201014)\n",
        "4    POINT (588025.0069232528 4134319.785249208)\n",
        "Name: geometry, dtype: object\n",
        "2761\n"
       ]
      }
     ],
     "prompt_number": 5
    },
    {
     "cell_type": "heading",
     "level": 3,
     "metadata": {},
     "source": [
      "Get OpenStreetMap networks for Bay Area that I had previously"
     ]
    },
    {
     "cell_type": "code",
     "collapsed": false,
     "input": [
      "store = pd.HDFStore('data/osm_bayarea.h5', \"r\")\n",
      "nodes = store.nodes\n",
      "edges = store.edges\n",
      "print nodes.describe()\n",
      "print edges.describe()"
     ],
     "language": "python",
     "metadata": {},
     "outputs": [
      {
       "output_type": "stream",
       "stream": "stdout",
       "text": [
        "                   x               y\n",
        "count  226060.000000   226060.000000\n",
        "mean   573967.518995  4181204.917349\n",
        "std     26612.211317    42255.559395\n",
        "min    454368.187500  4090413.000000\n",
        "25%    558665.796875  4145835.250000\n",
        "50%    578981.500000  4179996.875000\n",
        "75%    592821.125000  4207891.125000\n",
        "max    644842.375000  4299750.500000\n",
        "\n",
        "[8 rows x 2 columns]\n",
        "                from             to         weight\n",
        "count  287161.000000  287161.000000  287161.000000\n",
        "mean   140787.698946  142316.049565     137.033748\n",
        "std    100749.037242  101442.610129     158.848181\n",
        "min         8.000000       8.000000       0.134000\n",
        "25%     62336.000000   63233.000000      57.574001\n",
        "50%    123582.000000  124054.000000      92.142998\n",
        "75%    180045.000000  182034.000000     164.358994\n",
        "max    354696.000000  354696.000000    6705.288086\n",
        "\n",
        "[8 rows x 3 columns]"
       ]
      },
      {
       "output_type": "stream",
       "stream": "stdout",
       "text": [
        "\n"
       ]
      }
     ],
     "prompt_number": 6
    },
    {
     "cell_type": "heading",
     "level": 3,
     "metadata": {},
     "source": [
      "Initialize and preprocess network"
     ]
    },
    {
     "cell_type": "code",
     "collapsed": false,
     "input": [
      "%time net=nwp.Network(nodes.x, nodes.y, edges[\"from\"], edges.to, edges[[\"weight\"]])\n",
      "%time net.precompute(4000)"
     ],
     "language": "python",
     "metadata": {},
     "outputs": [
      {
       "output_type": "stream",
       "stream": "stdout",
       "text": [
        "CPU times: user 3.3 s, sys: 149 ms, total: 3.45 s\n",
        "Wall time: 1.53 s\n",
        "CPU times: user 7.08 s, sys: 257 ms, total: 7.33 s"
       ]
      },
      {
       "output_type": "stream",
       "stream": "stdout",
       "text": [
        "\n",
        "Wall time: 1.87 s\n"
       ]
      }
     ],
     "prompt_number": 7
    },
    {
     "cell_type": "code",
     "collapsed": false,
     "input": [
      "x = gdf.geometry.apply(lambda p: p.x)\n",
      "y = gdf.geometry.apply(lambda p: p.y)\n",
      "print x.describe()\n",
      "print y.describe()"
     ],
     "language": "python",
     "metadata": {},
     "outputs": [
      {
       "ename": "AttributeError",
       "evalue": "'numpy.float64' object has no attribute 'is_empty'",
       "output_type": "pyerr",
       "traceback": [
        "\u001b[0;31m---------------------------------------------------------------------------\u001b[0m\n\u001b[0;31mAttributeError\u001b[0m                            Traceback (most recent call last)",
        "\u001b[0;32m/Users/ffoti/src/urbanaccess/_ctypes/callbacks.c\u001b[0m in \u001b[0;36m'calling callback function'\u001b[0;34m()\u001b[0m\n",
        "\u001b[0;32m/Users/ffoti/anaconda/lib/python2.7/site-packages/Rtree-0.8.0-py2.7.egg/rtree/index.pyc\u001b[0m in \u001b[0;36mpy_next_item\u001b[0;34m(p_id, p_mins, p_maxs, p_dimension, p_data, p_length)\u001b[0m\n\u001b[1;32m    669\u001b[0m \u001b[0;34m\u001b[0m\u001b[0m\n\u001b[1;32m    670\u001b[0m             \u001b[0;32mtry\u001b[0m\u001b[0;34m:\u001b[0m\u001b[0;34m\u001b[0m\u001b[0m\n\u001b[0;32m--> 671\u001b[0;31m                 \u001b[0mp_id\u001b[0m\u001b[0;34m[\u001b[0m\u001b[0;36m0\u001b[0m\u001b[0;34m]\u001b[0m\u001b[0;34m,\u001b[0m \u001b[0mcoordinates\u001b[0m\u001b[0;34m,\u001b[0m \u001b[0mobj\u001b[0m \u001b[0;34m=\u001b[0m \u001b[0mnext\u001b[0m\u001b[0;34m(\u001b[0m\u001b[0mstream_iter\u001b[0m\u001b[0;34m)\u001b[0m\u001b[0;34m\u001b[0m\u001b[0m\n\u001b[0m\u001b[1;32m    672\u001b[0m             \u001b[0;32mexcept\u001b[0m \u001b[0mStopIteration\u001b[0m\u001b[0;34m:\u001b[0m\u001b[0;34m\u001b[0m\u001b[0m\n\u001b[1;32m    673\u001b[0m                \u001b[0;31m# we're done\u001b[0m\u001b[0;34m\u001b[0m\u001b[0;34m\u001b[0m\u001b[0m\n",
        "\u001b[0;32m/Users/ffoti/src/geopandas/geopandas/base.pyc\u001b[0m in \u001b[0;36m<genexpr>\u001b[0;34m((i, (idx, item)))\u001b[0m\n\u001b[1;32m     71\u001b[0m             stream = ((i, item.bounds, idx) for i, (idx, item) in\n\u001b[1;32m     72\u001b[0m                    \u001b[0menumerate\u001b[0m\u001b[0;34m(\u001b[0m\u001b[0mself\u001b[0m\u001b[0;34m.\u001b[0m\u001b[0mgeometry\u001b[0m\u001b[0;34m.\u001b[0m\u001b[0miteritems\u001b[0m\u001b[0;34m(\u001b[0m\u001b[0;34m)\u001b[0m\u001b[0;34m)\u001b[0m \u001b[0;32mif\u001b[0m\u001b[0;34m\u001b[0m\u001b[0m\n\u001b[0;32m---> 73\u001b[0;31m                    item and not item.is_empty)\n\u001b[0m\u001b[1;32m     74\u001b[0m             \u001b[0;32mtry\u001b[0m\u001b[0;34m:\u001b[0m\u001b[0;34m\u001b[0m\u001b[0m\n\u001b[1;32m     75\u001b[0m                 \u001b[0mself\u001b[0m\u001b[0;34m.\u001b[0m\u001b[0m_sindex\u001b[0m \u001b[0;34m=\u001b[0m \u001b[0mSpatialIndex\u001b[0m\u001b[0;34m(\u001b[0m\u001b[0mstream\u001b[0m\u001b[0;34m)\u001b[0m\u001b[0;34m\u001b[0m\u001b[0m\n",
        "\u001b[0;31mAttributeError\u001b[0m: 'numpy.float64' object has no attribute 'is_empty'"
       ]
      },
      {
       "ename": "AttributeError",
       "evalue": "'numpy.float64' object has no attribute 'is_empty'",
       "output_type": "pyerr",
       "traceback": [
        "\u001b[0;31m---------------------------------------------------------------------------\u001b[0m\n\u001b[0;31mAttributeError\u001b[0m                            Traceback (most recent call last)",
        "\u001b[0;32m/Users/ffoti/src/urbanaccess/_ctypes/callbacks.c\u001b[0m in \u001b[0;36m'calling callback function'\u001b[0;34m()\u001b[0m\n",
        "\u001b[0;32m/Users/ffoti/anaconda/lib/python2.7/site-packages/Rtree-0.8.0-py2.7.egg/rtree/index.pyc\u001b[0m in \u001b[0;36mpy_next_item\u001b[0;34m(p_id, p_mins, p_maxs, p_dimension, p_data, p_length)\u001b[0m\n\u001b[1;32m    669\u001b[0m \u001b[0;34m\u001b[0m\u001b[0m\n\u001b[1;32m    670\u001b[0m             \u001b[0;32mtry\u001b[0m\u001b[0;34m:\u001b[0m\u001b[0;34m\u001b[0m\u001b[0m\n\u001b[0;32m--> 671\u001b[0;31m                 \u001b[0mp_id\u001b[0m\u001b[0;34m[\u001b[0m\u001b[0;36m0\u001b[0m\u001b[0;34m]\u001b[0m\u001b[0;34m,\u001b[0m \u001b[0mcoordinates\u001b[0m\u001b[0;34m,\u001b[0m \u001b[0mobj\u001b[0m \u001b[0;34m=\u001b[0m \u001b[0mnext\u001b[0m\u001b[0;34m(\u001b[0m\u001b[0mstream_iter\u001b[0m\u001b[0;34m)\u001b[0m\u001b[0;34m\u001b[0m\u001b[0m\n\u001b[0m\u001b[1;32m    672\u001b[0m             \u001b[0;32mexcept\u001b[0m \u001b[0mStopIteration\u001b[0m\u001b[0;34m:\u001b[0m\u001b[0;34m\u001b[0m\u001b[0m\n\u001b[1;32m    673\u001b[0m                \u001b[0;31m# we're done\u001b[0m\u001b[0;34m\u001b[0m\u001b[0;34m\u001b[0m\u001b[0m\n",
        "\u001b[0;32m/Users/ffoti/src/geopandas/geopandas/base.pyc\u001b[0m in \u001b[0;36m<genexpr>\u001b[0;34m((i, (idx, item)))\u001b[0m\n\u001b[1;32m     71\u001b[0m             stream = ((i, item.bounds, idx) for i, (idx, item) in\n\u001b[1;32m     72\u001b[0m                    \u001b[0menumerate\u001b[0m\u001b[0;34m(\u001b[0m\u001b[0mself\u001b[0m\u001b[0;34m.\u001b[0m\u001b[0mgeometry\u001b[0m\u001b[0;34m.\u001b[0m\u001b[0miteritems\u001b[0m\u001b[0;34m(\u001b[0m\u001b[0;34m)\u001b[0m\u001b[0;34m)\u001b[0m \u001b[0;32mif\u001b[0m\u001b[0;34m\u001b[0m\u001b[0m\n\u001b[0;32m---> 73\u001b[0;31m                    item and not item.is_empty)\n\u001b[0m\u001b[1;32m     74\u001b[0m             \u001b[0;32mtry\u001b[0m\u001b[0;34m:\u001b[0m\u001b[0;34m\u001b[0m\u001b[0m\n\u001b[1;32m     75\u001b[0m                 \u001b[0mself\u001b[0m\u001b[0;34m.\u001b[0m\u001b[0m_sindex\u001b[0m \u001b[0;34m=\u001b[0m \u001b[0mSpatialIndex\u001b[0m\u001b[0;34m(\u001b[0m\u001b[0mstream\u001b[0m\u001b[0;34m)\u001b[0m\u001b[0;34m\u001b[0m\u001b[0m\n",
        "\u001b[0;31mAttributeError\u001b[0m: 'numpy.float64' object has no attribute 'is_empty'"
       ]
      },
      {
       "ename": "AttributeError",
       "evalue": "'numpy.float64' object has no attribute 'is_empty'",
       "output_type": "pyerr",
       "traceback": [
        "\u001b[0;31m---------------------------------------------------------------------------\u001b[0m\n\u001b[0;31mAttributeError\u001b[0m                            Traceback (most recent call last)",
        "\u001b[0;32m/Users/ffoti/src/urbanaccess/_ctypes/callbacks.c\u001b[0m in \u001b[0;36m'calling callback function'\u001b[0;34m()\u001b[0m\n",
        "\u001b[0;32m/Users/ffoti/anaconda/lib/python2.7/site-packages/Rtree-0.8.0-py2.7.egg/rtree/index.pyc\u001b[0m in \u001b[0;36mpy_next_item\u001b[0;34m(p_id, p_mins, p_maxs, p_dimension, p_data, p_length)\u001b[0m\n\u001b[1;32m    669\u001b[0m \u001b[0;34m\u001b[0m\u001b[0m\n\u001b[1;32m    670\u001b[0m             \u001b[0;32mtry\u001b[0m\u001b[0;34m:\u001b[0m\u001b[0;34m\u001b[0m\u001b[0m\n\u001b[0;32m--> 671\u001b[0;31m                 \u001b[0mp_id\u001b[0m\u001b[0;34m[\u001b[0m\u001b[0;36m0\u001b[0m\u001b[0;34m]\u001b[0m\u001b[0;34m,\u001b[0m \u001b[0mcoordinates\u001b[0m\u001b[0;34m,\u001b[0m \u001b[0mobj\u001b[0m \u001b[0;34m=\u001b[0m \u001b[0mnext\u001b[0m\u001b[0;34m(\u001b[0m\u001b[0mstream_iter\u001b[0m\u001b[0;34m)\u001b[0m\u001b[0;34m\u001b[0m\u001b[0m\n\u001b[0m\u001b[1;32m    672\u001b[0m             \u001b[0;32mexcept\u001b[0m \u001b[0mStopIteration\u001b[0m\u001b[0;34m:\u001b[0m\u001b[0;34m\u001b[0m\u001b[0m\n\u001b[1;32m    673\u001b[0m                \u001b[0;31m# we're done\u001b[0m\u001b[0;34m\u001b[0m\u001b[0;34m\u001b[0m\u001b[0m\n",
        "\u001b[0;32m/Users/ffoti/src/geopandas/geopandas/base.pyc\u001b[0m in \u001b[0;36m<genexpr>\u001b[0;34m((i, (idx, item)))\u001b[0m\n\u001b[1;32m     71\u001b[0m             stream = ((i, item.bounds, idx) for i, (idx, item) in\n\u001b[1;32m     72\u001b[0m                    \u001b[0menumerate\u001b[0m\u001b[0;34m(\u001b[0m\u001b[0mself\u001b[0m\u001b[0;34m.\u001b[0m\u001b[0mgeometry\u001b[0m\u001b[0;34m.\u001b[0m\u001b[0miteritems\u001b[0m\u001b[0;34m(\u001b[0m\u001b[0;34m)\u001b[0m\u001b[0;34m)\u001b[0m \u001b[0;32mif\u001b[0m\u001b[0;34m\u001b[0m\u001b[0m\n\u001b[0;32m---> 73\u001b[0;31m                    item and not item.is_empty)\n\u001b[0m\u001b[1;32m     74\u001b[0m             \u001b[0;32mtry\u001b[0m\u001b[0;34m:\u001b[0m\u001b[0;34m\u001b[0m\u001b[0m\n\u001b[1;32m     75\u001b[0m                 \u001b[0mself\u001b[0m\u001b[0;34m.\u001b[0m\u001b[0m_sindex\u001b[0m \u001b[0;34m=\u001b[0m \u001b[0mSpatialIndex\u001b[0m\u001b[0;34m(\u001b[0m\u001b[0mstream\u001b[0m\u001b[0;34m)\u001b[0m\u001b[0;34m\u001b[0m\u001b[0m\n",
        "\u001b[0;31mAttributeError\u001b[0m: 'numpy.float64' object has no attribute 'is_empty'"
       ]
      },
      {
       "ename": "AttributeError",
       "evalue": "'numpy.float64' object has no attribute 'is_empty'",
       "output_type": "pyerr",
       "traceback": [
        "\u001b[0;31m---------------------------------------------------------------------------\u001b[0m\n\u001b[0;31mAttributeError\u001b[0m                            Traceback (most recent call last)",
        "\u001b[0;32m/Users/ffoti/src/urbanaccess/_ctypes/callbacks.c\u001b[0m in \u001b[0;36m'calling callback function'\u001b[0;34m()\u001b[0m\n",
        "\u001b[0;32m/Users/ffoti/anaconda/lib/python2.7/site-packages/Rtree-0.8.0-py2.7.egg/rtree/index.pyc\u001b[0m in \u001b[0;36mpy_next_item\u001b[0;34m(p_id, p_mins, p_maxs, p_dimension, p_data, p_length)\u001b[0m\n\u001b[1;32m    669\u001b[0m \u001b[0;34m\u001b[0m\u001b[0m\n\u001b[1;32m    670\u001b[0m             \u001b[0;32mtry\u001b[0m\u001b[0;34m:\u001b[0m\u001b[0;34m\u001b[0m\u001b[0m\n\u001b[0;32m--> 671\u001b[0;31m                 \u001b[0mp_id\u001b[0m\u001b[0;34m[\u001b[0m\u001b[0;36m0\u001b[0m\u001b[0;34m]\u001b[0m\u001b[0;34m,\u001b[0m \u001b[0mcoordinates\u001b[0m\u001b[0;34m,\u001b[0m \u001b[0mobj\u001b[0m \u001b[0;34m=\u001b[0m \u001b[0mnext\u001b[0m\u001b[0;34m(\u001b[0m\u001b[0mstream_iter\u001b[0m\u001b[0;34m)\u001b[0m\u001b[0;34m\u001b[0m\u001b[0m\n\u001b[0m\u001b[1;32m    672\u001b[0m             \u001b[0;32mexcept\u001b[0m \u001b[0mStopIteration\u001b[0m\u001b[0;34m:\u001b[0m\u001b[0;34m\u001b[0m\u001b[0m\n\u001b[1;32m    673\u001b[0m                \u001b[0;31m# we're done\u001b[0m\u001b[0;34m\u001b[0m\u001b[0;34m\u001b[0m\u001b[0m\n",
        "\u001b[0;32m/Users/ffoti/src/geopandas/geopandas/base.pyc\u001b[0m in \u001b[0;36m<genexpr>\u001b[0;34m((i, (idx, item)))\u001b[0m\n\u001b[1;32m     71\u001b[0m             stream = ((i, item.bounds, idx) for i, (idx, item) in\n\u001b[1;32m     72\u001b[0m                    \u001b[0menumerate\u001b[0m\u001b[0;34m(\u001b[0m\u001b[0mself\u001b[0m\u001b[0;34m.\u001b[0m\u001b[0mgeometry\u001b[0m\u001b[0;34m.\u001b[0m\u001b[0miteritems\u001b[0m\u001b[0;34m(\u001b[0m\u001b[0;34m)\u001b[0m\u001b[0;34m)\u001b[0m \u001b[0;32mif\u001b[0m\u001b[0;34m\u001b[0m\u001b[0m\n\u001b[0;32m---> 73\u001b[0;31m                    item and not item.is_empty)\n\u001b[0m\u001b[1;32m     74\u001b[0m             \u001b[0;32mtry\u001b[0m\u001b[0;34m:\u001b[0m\u001b[0;34m\u001b[0m\u001b[0m\n\u001b[1;32m     75\u001b[0m                 \u001b[0mself\u001b[0m\u001b[0;34m.\u001b[0m\u001b[0m_sindex\u001b[0m \u001b[0;34m=\u001b[0m \u001b[0mSpatialIndex\u001b[0m\u001b[0;34m(\u001b[0m\u001b[0mstream\u001b[0m\u001b[0;34m)\u001b[0m\u001b[0;34m\u001b[0m\u001b[0m\n",
        "\u001b[0;31mAttributeError\u001b[0m: 'numpy.float64' object has no attribute 'is_empty'"
       ]
      },
      {
       "ename": "AttributeError",
       "evalue": "'numpy.float64' object has no attribute 'is_empty'",
       "output_type": "pyerr",
       "traceback": [
        "\u001b[0;31m---------------------------------------------------------------------------\u001b[0m\n\u001b[0;31mAttributeError\u001b[0m                            Traceback (most recent call last)",
        "\u001b[0;32m/Users/ffoti/src/urbanaccess/_ctypes/callbacks.c\u001b[0m in \u001b[0;36m'calling callback function'\u001b[0;34m()\u001b[0m\n",
        "\u001b[0;32m/Users/ffoti/anaconda/lib/python2.7/site-packages/Rtree-0.8.0-py2.7.egg/rtree/index.pyc\u001b[0m in \u001b[0;36mpy_next_item\u001b[0;34m(p_id, p_mins, p_maxs, p_dimension, p_data, p_length)\u001b[0m\n\u001b[1;32m    669\u001b[0m \u001b[0;34m\u001b[0m\u001b[0m\n\u001b[1;32m    670\u001b[0m             \u001b[0;32mtry\u001b[0m\u001b[0;34m:\u001b[0m\u001b[0;34m\u001b[0m\u001b[0m\n\u001b[0;32m--> 671\u001b[0;31m                 \u001b[0mp_id\u001b[0m\u001b[0;34m[\u001b[0m\u001b[0;36m0\u001b[0m\u001b[0;34m]\u001b[0m\u001b[0;34m,\u001b[0m \u001b[0mcoordinates\u001b[0m\u001b[0;34m,\u001b[0m \u001b[0mobj\u001b[0m \u001b[0;34m=\u001b[0m \u001b[0mnext\u001b[0m\u001b[0;34m(\u001b[0m\u001b[0mstream_iter\u001b[0m\u001b[0;34m)\u001b[0m\u001b[0;34m\u001b[0m\u001b[0m\n\u001b[0m\u001b[1;32m    672\u001b[0m             \u001b[0;32mexcept\u001b[0m \u001b[0mStopIteration\u001b[0m\u001b[0;34m:\u001b[0m\u001b[0;34m\u001b[0m\u001b[0m\n\u001b[1;32m    673\u001b[0m                \u001b[0;31m# we're done\u001b[0m\u001b[0;34m\u001b[0m\u001b[0;34m\u001b[0m\u001b[0m\n",
        "\u001b[0;32m/Users/ffoti/src/geopandas/geopandas/base.pyc\u001b[0m in \u001b[0;36m<genexpr>\u001b[0;34m((i, (idx, item)))\u001b[0m\n\u001b[1;32m     71\u001b[0m             stream = ((i, item.bounds, idx) for i, (idx, item) in\n\u001b[1;32m     72\u001b[0m                    \u001b[0menumerate\u001b[0m\u001b[0;34m(\u001b[0m\u001b[0mself\u001b[0m\u001b[0;34m.\u001b[0m\u001b[0mgeometry\u001b[0m\u001b[0;34m.\u001b[0m\u001b[0miteritems\u001b[0m\u001b[0;34m(\u001b[0m\u001b[0;34m)\u001b[0m\u001b[0;34m)\u001b[0m \u001b[0;32mif\u001b[0m\u001b[0;34m\u001b[0m\u001b[0m\n\u001b[0;32m---> 73\u001b[0;31m                    item and not item.is_empty)\n\u001b[0m\u001b[1;32m     74\u001b[0m             \u001b[0;32mtry\u001b[0m\u001b[0;34m:\u001b[0m\u001b[0;34m\u001b[0m\u001b[0m\n\u001b[1;32m     75\u001b[0m                 \u001b[0mself\u001b[0m\u001b[0;34m.\u001b[0m\u001b[0m_sindex\u001b[0m \u001b[0;34m=\u001b[0m \u001b[0mSpatialIndex\u001b[0m\u001b[0;34m(\u001b[0m\u001b[0mstream\u001b[0m\u001b[0;34m)\u001b[0m\u001b[0;34m\u001b[0m\u001b[0m\n",
        "\u001b[0;31mAttributeError\u001b[0m: 'numpy.float64' object has no attribute 'is_empty'"
       ]
      },
      {
       "output_type": "stream",
       "stream": "stdout",
       "text": [
        "count      2761.000000\n",
        "mean     568276.663788\n",
        "std       17543.174784\n",
        "min      516892.838895\n",
        "25%      552074.274742\n",
        "50%      564687.587534\n",
        "75%      583926.612029\n",
        "max      619833.193511\n",
        "Name: geometry, dtype: float64\n"
       ]
      },
      {
       "ename": "AttributeError",
       "evalue": "'numpy.float64' object has no attribute 'is_empty'",
       "output_type": "pyerr",
       "traceback": [
        "\u001b[0;31m---------------------------------------------------------------------------\u001b[0m\n\u001b[0;31mAttributeError\u001b[0m                            Traceback (most recent call last)",
        "\u001b[0;32m/Users/ffoti/src/urbanaccess/_ctypes/callbacks.c\u001b[0m in \u001b[0;36m'calling callback function'\u001b[0;34m()\u001b[0m\n",
        "\u001b[0;32m/Users/ffoti/anaconda/lib/python2.7/site-packages/Rtree-0.8.0-py2.7.egg/rtree/index.pyc\u001b[0m in \u001b[0;36mpy_next_item\u001b[0;34m(p_id, p_mins, p_maxs, p_dimension, p_data, p_length)\u001b[0m\n\u001b[1;32m    669\u001b[0m \u001b[0;34m\u001b[0m\u001b[0m\n\u001b[1;32m    670\u001b[0m             \u001b[0;32mtry\u001b[0m\u001b[0;34m:\u001b[0m\u001b[0;34m\u001b[0m\u001b[0m\n\u001b[0;32m--> 671\u001b[0;31m                 \u001b[0mp_id\u001b[0m\u001b[0;34m[\u001b[0m\u001b[0;36m0\u001b[0m\u001b[0;34m]\u001b[0m\u001b[0;34m,\u001b[0m \u001b[0mcoordinates\u001b[0m\u001b[0;34m,\u001b[0m \u001b[0mobj\u001b[0m \u001b[0;34m=\u001b[0m \u001b[0mnext\u001b[0m\u001b[0;34m(\u001b[0m\u001b[0mstream_iter\u001b[0m\u001b[0;34m)\u001b[0m\u001b[0;34m\u001b[0m\u001b[0m\n\u001b[0m\u001b[1;32m    672\u001b[0m             \u001b[0;32mexcept\u001b[0m \u001b[0mStopIteration\u001b[0m\u001b[0;34m:\u001b[0m\u001b[0;34m\u001b[0m\u001b[0m\n\u001b[1;32m    673\u001b[0m                \u001b[0;31m# we're done\u001b[0m\u001b[0;34m\u001b[0m\u001b[0;34m\u001b[0m\u001b[0m\n",
        "\u001b[0;32m/Users/ffoti/src/geopandas/geopandas/base.pyc\u001b[0m in \u001b[0;36m<genexpr>\u001b[0;34m((i, (idx, item)))\u001b[0m\n\u001b[1;32m     71\u001b[0m             stream = ((i, item.bounds, idx) for i, (idx, item) in\n\u001b[1;32m     72\u001b[0m                    \u001b[0menumerate\u001b[0m\u001b[0;34m(\u001b[0m\u001b[0mself\u001b[0m\u001b[0;34m.\u001b[0m\u001b[0mgeometry\u001b[0m\u001b[0;34m.\u001b[0m\u001b[0miteritems\u001b[0m\u001b[0;34m(\u001b[0m\u001b[0;34m)\u001b[0m\u001b[0;34m)\u001b[0m \u001b[0;32mif\u001b[0m\u001b[0;34m\u001b[0m\u001b[0m\n\u001b[0;32m---> 73\u001b[0;31m                    item and not item.is_empty)\n\u001b[0m\u001b[1;32m     74\u001b[0m             \u001b[0;32mtry\u001b[0m\u001b[0;34m:\u001b[0m\u001b[0;34m\u001b[0m\u001b[0m\n\u001b[1;32m     75\u001b[0m                 \u001b[0mself\u001b[0m\u001b[0;34m.\u001b[0m\u001b[0m_sindex\u001b[0m \u001b[0;34m=\u001b[0m \u001b[0mSpatialIndex\u001b[0m\u001b[0;34m(\u001b[0m\u001b[0mstream\u001b[0m\u001b[0;34m)\u001b[0m\u001b[0;34m\u001b[0m\u001b[0m\n",
        "\u001b[0;31mAttributeError\u001b[0m: 'numpy.float64' object has no attribute 'is_empty'"
       ]
      },
      {
       "ename": "AttributeError",
       "evalue": "'numpy.float64' object has no attribute 'is_empty'",
       "output_type": "pyerr",
       "traceback": [
        "\u001b[0;31m---------------------------------------------------------------------------\u001b[0m\n\u001b[0;31mAttributeError\u001b[0m                            Traceback (most recent call last)",
        "\u001b[0;32m/Users/ffoti/src/urbanaccess/_ctypes/callbacks.c\u001b[0m in \u001b[0;36m'calling callback function'\u001b[0;34m()\u001b[0m\n",
        "\u001b[0;32m/Users/ffoti/anaconda/lib/python2.7/site-packages/Rtree-0.8.0-py2.7.egg/rtree/index.pyc\u001b[0m in \u001b[0;36mpy_next_item\u001b[0;34m(p_id, p_mins, p_maxs, p_dimension, p_data, p_length)\u001b[0m\n\u001b[1;32m    669\u001b[0m \u001b[0;34m\u001b[0m\u001b[0m\n\u001b[1;32m    670\u001b[0m             \u001b[0;32mtry\u001b[0m\u001b[0;34m:\u001b[0m\u001b[0;34m\u001b[0m\u001b[0m\n\u001b[0;32m--> 671\u001b[0;31m                 \u001b[0mp_id\u001b[0m\u001b[0;34m[\u001b[0m\u001b[0;36m0\u001b[0m\u001b[0;34m]\u001b[0m\u001b[0;34m,\u001b[0m \u001b[0mcoordinates\u001b[0m\u001b[0;34m,\u001b[0m \u001b[0mobj\u001b[0m \u001b[0;34m=\u001b[0m \u001b[0mnext\u001b[0m\u001b[0;34m(\u001b[0m\u001b[0mstream_iter\u001b[0m\u001b[0;34m)\u001b[0m\u001b[0;34m\u001b[0m\u001b[0m\n\u001b[0m\u001b[1;32m    672\u001b[0m             \u001b[0;32mexcept\u001b[0m \u001b[0mStopIteration\u001b[0m\u001b[0;34m:\u001b[0m\u001b[0;34m\u001b[0m\u001b[0m\n\u001b[1;32m    673\u001b[0m                \u001b[0;31m# we're done\u001b[0m\u001b[0;34m\u001b[0m\u001b[0;34m\u001b[0m\u001b[0m\n",
        "\u001b[0;32m/Users/ffoti/src/geopandas/geopandas/base.pyc\u001b[0m in \u001b[0;36m<genexpr>\u001b[0;34m((i, (idx, item)))\u001b[0m\n\u001b[1;32m     71\u001b[0m             stream = ((i, item.bounds, idx) for i, (idx, item) in\n\u001b[1;32m     72\u001b[0m                    \u001b[0menumerate\u001b[0m\u001b[0;34m(\u001b[0m\u001b[0mself\u001b[0m\u001b[0;34m.\u001b[0m\u001b[0mgeometry\u001b[0m\u001b[0;34m.\u001b[0m\u001b[0miteritems\u001b[0m\u001b[0;34m(\u001b[0m\u001b[0;34m)\u001b[0m\u001b[0;34m)\u001b[0m \u001b[0;32mif\u001b[0m\u001b[0;34m\u001b[0m\u001b[0m\n\u001b[0;32m---> 73\u001b[0;31m                    item and not item.is_empty)\n\u001b[0m\u001b[1;32m     74\u001b[0m             \u001b[0;32mtry\u001b[0m\u001b[0;34m:\u001b[0m\u001b[0;34m\u001b[0m\u001b[0m\n\u001b[1;32m     75\u001b[0m                 \u001b[0mself\u001b[0m\u001b[0;34m.\u001b[0m\u001b[0m_sindex\u001b[0m \u001b[0;34m=\u001b[0m \u001b[0mSpatialIndex\u001b[0m\u001b[0;34m(\u001b[0m\u001b[0mstream\u001b[0m\u001b[0;34m)\u001b[0m\u001b[0;34m\u001b[0m\u001b[0m\n",
        "\u001b[0;31mAttributeError\u001b[0m: 'numpy.float64' object has no attribute 'is_empty'"
       ]
      },
      {
       "ename": "AttributeError",
       "evalue": "'numpy.float64' object has no attribute 'is_empty'",
       "output_type": "pyerr",
       "traceback": [
        "\u001b[0;31m---------------------------------------------------------------------------\u001b[0m\n\u001b[0;31mAttributeError\u001b[0m                            Traceback (most recent call last)",
        "\u001b[0;32m/Users/ffoti/src/urbanaccess/_ctypes/callbacks.c\u001b[0m in \u001b[0;36m'calling callback function'\u001b[0;34m()\u001b[0m\n",
        "\u001b[0;32m/Users/ffoti/anaconda/lib/python2.7/site-packages/Rtree-0.8.0-py2.7.egg/rtree/index.pyc\u001b[0m in \u001b[0;36mpy_next_item\u001b[0;34m(p_id, p_mins, p_maxs, p_dimension, p_data, p_length)\u001b[0m\n\u001b[1;32m    669\u001b[0m \u001b[0;34m\u001b[0m\u001b[0m\n\u001b[1;32m    670\u001b[0m             \u001b[0;32mtry\u001b[0m\u001b[0;34m:\u001b[0m\u001b[0;34m\u001b[0m\u001b[0m\n\u001b[0;32m--> 671\u001b[0;31m                 \u001b[0mp_id\u001b[0m\u001b[0;34m[\u001b[0m\u001b[0;36m0\u001b[0m\u001b[0;34m]\u001b[0m\u001b[0;34m,\u001b[0m \u001b[0mcoordinates\u001b[0m\u001b[0;34m,\u001b[0m \u001b[0mobj\u001b[0m \u001b[0;34m=\u001b[0m \u001b[0mnext\u001b[0m\u001b[0;34m(\u001b[0m\u001b[0mstream_iter\u001b[0m\u001b[0;34m)\u001b[0m\u001b[0;34m\u001b[0m\u001b[0m\n\u001b[0m\u001b[1;32m    672\u001b[0m             \u001b[0;32mexcept\u001b[0m \u001b[0mStopIteration\u001b[0m\u001b[0;34m:\u001b[0m\u001b[0;34m\u001b[0m\u001b[0m\n\u001b[1;32m    673\u001b[0m                \u001b[0;31m# we're done\u001b[0m\u001b[0;34m\u001b[0m\u001b[0;34m\u001b[0m\u001b[0m\n",
        "\u001b[0;32m/Users/ffoti/src/geopandas/geopandas/base.pyc\u001b[0m in \u001b[0;36m<genexpr>\u001b[0;34m((i, (idx, item)))\u001b[0m\n\u001b[1;32m     71\u001b[0m             stream = ((i, item.bounds, idx) for i, (idx, item) in\n\u001b[1;32m     72\u001b[0m                    \u001b[0menumerate\u001b[0m\u001b[0;34m(\u001b[0m\u001b[0mself\u001b[0m\u001b[0;34m.\u001b[0m\u001b[0mgeometry\u001b[0m\u001b[0;34m.\u001b[0m\u001b[0miteritems\u001b[0m\u001b[0;34m(\u001b[0m\u001b[0;34m)\u001b[0m\u001b[0;34m)\u001b[0m \u001b[0;32mif\u001b[0m\u001b[0;34m\u001b[0m\u001b[0m\n\u001b[0;32m---> 73\u001b[0;31m                    item and not item.is_empty)\n\u001b[0m\u001b[1;32m     74\u001b[0m             \u001b[0;32mtry\u001b[0m\u001b[0;34m:\u001b[0m\u001b[0;34m\u001b[0m\u001b[0m\n\u001b[1;32m     75\u001b[0m                 \u001b[0mself\u001b[0m\u001b[0;34m.\u001b[0m\u001b[0m_sindex\u001b[0m \u001b[0;34m=\u001b[0m \u001b[0mSpatialIndex\u001b[0m\u001b[0;34m(\u001b[0m\u001b[0mstream\u001b[0m\u001b[0;34m)\u001b[0m\u001b[0;34m\u001b[0m\u001b[0m\n",
        "\u001b[0;31mAttributeError\u001b[0m: 'numpy.float64' object has no attribute 'is_empty'"
       ]
      },
      {
       "output_type": "stream",
       "stream": "stdout",
       "text": [
        "count       2761.000000\n",
        "mean     4167482.227550\n",
        "std        23674.706018\n",
        "min      4112181.776916\n",
        "25%      4142684.098728\n",
        "50%      4179433.036981\n",
        "75%      4183766.790552\n",
        "max      4224474.764872\n",
        "Name: geometry, dtype: float64\n"
       ]
      }
     ],
     "prompt_number": 8
    },
    {
     "cell_type": "code",
     "collapsed": false,
     "input": [
      "%time node_ids = net.get_node_ids(x, y)"
     ],
     "language": "python",
     "metadata": {},
     "outputs": [
      {
       "output_type": "stream",
       "stream": "stdout",
       "text": [
        "CPU times: user 9.05 ms, sys: 1.14 ms, total: 10.2 ms\n",
        "Wall time: 9.23 ms\n"
       ]
      }
     ],
     "prompt_number": 9
    },
    {
     "cell_type": "code",
     "collapsed": false,
     "input": [
      "%time net.set(node_ids)"
     ],
     "language": "python",
     "metadata": {},
     "outputs": [
      {
       "output_type": "stream",
       "stream": "stdout",
       "text": [
        "up 0.001\n",
        "            node_idx   tmp\n",
        "count    1726.000000  1726\n",
        "mean   106375.610660     1\n",
        "std     55663.690662     0\n",
        "min       188.000000     1\n",
        "25%     66271.000000     1\n",
        "50%    111044.500000     1\n",
        "75%    152772.000000     1\n",
        "max    180185.000000     1\n",
        "\n",
        "[8 rows x 2 columns]\n",
        "0.010\n",
        "CPU times: user 15.9 ms, sys: 6.1 ms, total: 22 ms\n",
        "Wall time: 21 ms\n"
       ]
      }
     ],
     "prompt_number": 10
    },
    {
     "cell_type": "code",
     "collapsed": false,
     "input": [
      "%time s = net.aggregate(500, type=\"sum\", decay=\"linear\")\n",
      "%time t = net.aggregate(1000, type=\"sum\", decay=\"linear\")\n",
      "%time u = net.aggregate(2000, type=\"sum\", decay=\"linear\")\n",
      "%time v = net.aggregate(4000, type=\"sum\", decay=\"linear\")\n",
      "%time w = net.aggregate(4000, type=\"count\", decay=\"flat\")"
     ],
     "language": "python",
     "metadata": {},
     "outputs": [
      {
       "output_type": "stream",
       "stream": "stdout",
       "text": [
        "CPU times: user 306 ms, sys: 2.05 ms, total: 308 ms\n",
        "Wall time: 103 ms\n",
        "CPU times: user 461 ms, sys: 3.51 ms, total: 464 ms"
       ]
      },
      {
       "output_type": "stream",
       "stream": "stdout",
       "text": [
        "\n",
        "Wall time: 144 ms\n",
        "CPU times: user 391 ms, sys: 1.59 ms, total: 392 ms"
       ]
      },
      {
       "output_type": "stream",
       "stream": "stdout",
       "text": [
        "\n",
        "Wall time: 108 ms\n",
        "CPU times: user 531 ms, sys: 1.95 ms, total: 533 ms"
       ]
      },
      {
       "output_type": "stream",
       "stream": "stdout",
       "text": [
        "\n",
        "Wall time: 144 ms\n",
        "CPU times: user 708 ms, sys: 5.19 ms, total: 713 ms"
       ]
      },
      {
       "output_type": "stream",
       "stream": "stdout",
       "text": [
        "\n",
        "Wall time: 229 ms\n"
       ]
      }
     ],
     "prompt_number": 15
    },
    {
     "cell_type": "code",
     "collapsed": false,
     "input": [
      "from shapely.geometry import Point\n",
      "from fiona.crs import from_epsg\n",
      "import geopandas as gpd\n",
      "bbox=[-122.539365,37.693047,-122.347698,37.816069]\n",
      "bbox = gpd.GeoSeries([Point(bbox[0], bbox[1]),Point(bbox[2], bbox[3])])\n",
      "print bbox\n",
      "bbox.crs = from_epsg(4326)\n",
      "bbox = bbox.to_crs(3740)\n",
      "print bbox"
     ],
     "language": "python",
     "metadata": {},
     "outputs": [
      {
       "output_type": "stream",
       "stream": "stdout",
       "text": [
        "0    POINT (-122.539365 37.693047)\n",
        "1    POINT (-122.347698 37.816069)\n",
        "dtype: object\n"
       ]
      },
      {
       "ename": "TypeError",
       "evalue": "type object argument after ** must be a mapping, not int",
       "output_type": "pyerr",
       "traceback": [
        "\u001b[0;31m---------------------------------------------------------------------------\u001b[0m\n\u001b[0;31mTypeError\u001b[0m                                 Traceback (most recent call last)",
        "\u001b[0;32m<ipython-input-44-43b5e9bef396>\u001b[0m in \u001b[0;36m<module>\u001b[0;34m()\u001b[0m\n\u001b[1;32m      6\u001b[0m \u001b[0;32mprint\u001b[0m \u001b[0mbbox\u001b[0m\u001b[0;34m\u001b[0m\u001b[0m\n\u001b[1;32m      7\u001b[0m \u001b[0mbbox\u001b[0m\u001b[0;34m.\u001b[0m\u001b[0mcrs\u001b[0m \u001b[0;34m=\u001b[0m \u001b[0mfrom_epsg\u001b[0m\u001b[0;34m(\u001b[0m\u001b[0;36m4326\u001b[0m\u001b[0;34m)\u001b[0m\u001b[0;34m\u001b[0m\u001b[0m\n\u001b[0;32m----> 8\u001b[0;31m \u001b[0mbbox\u001b[0m \u001b[0;34m=\u001b[0m \u001b[0mbbox\u001b[0m\u001b[0;34m.\u001b[0m\u001b[0mto_crs\u001b[0m\u001b[0;34m(\u001b[0m\u001b[0;36m3740\u001b[0m\u001b[0;34m)\u001b[0m\u001b[0;34m\u001b[0m\u001b[0m\n\u001b[0m\u001b[1;32m      9\u001b[0m \u001b[0;32mprint\u001b[0m \u001b[0mbbox\u001b[0m\u001b[0;34m\u001b[0m\u001b[0m\n",
        "\u001b[0;32m/Users/ffoti/src/geopandas/geopandas/geoseries.pyc\u001b[0m in \u001b[0;36mto_crs\u001b[0;34m(self, crs, epsg)\u001b[0m\n\u001b[1;32m    266\u001b[0m                 \u001b[0;32mraise\u001b[0m \u001b[0mTypeError\u001b[0m\u001b[0;34m(\u001b[0m\u001b[0;34m'Must set either crs or epsg for output.'\u001b[0m\u001b[0;34m)\u001b[0m\u001b[0;34m\u001b[0m\u001b[0m\n\u001b[1;32m    267\u001b[0m         \u001b[0mproj_in\u001b[0m \u001b[0;34m=\u001b[0m \u001b[0mpyproj\u001b[0m\u001b[0;34m.\u001b[0m\u001b[0mProj\u001b[0m\u001b[0;34m(\u001b[0m\u001b[0mpreserve_units\u001b[0m\u001b[0;34m=\u001b[0m\u001b[0mTrue\u001b[0m\u001b[0;34m,\u001b[0m \u001b[0;34m**\u001b[0m\u001b[0mself\u001b[0m\u001b[0;34m.\u001b[0m\u001b[0mcrs\u001b[0m\u001b[0;34m)\u001b[0m\u001b[0;34m\u001b[0m\u001b[0m\n\u001b[0;32m--> 268\u001b[0;31m         \u001b[0mproj_out\u001b[0m \u001b[0;34m=\u001b[0m \u001b[0mpyproj\u001b[0m\u001b[0;34m.\u001b[0m\u001b[0mProj\u001b[0m\u001b[0;34m(\u001b[0m\u001b[0mpreserve_units\u001b[0m\u001b[0;34m=\u001b[0m\u001b[0mTrue\u001b[0m\u001b[0;34m,\u001b[0m \u001b[0;34m**\u001b[0m\u001b[0mcrs\u001b[0m\u001b[0;34m)\u001b[0m\u001b[0;34m\u001b[0m\u001b[0m\n\u001b[0m\u001b[1;32m    269\u001b[0m         \u001b[0mproject\u001b[0m \u001b[0;34m=\u001b[0m \u001b[0mpartial\u001b[0m\u001b[0;34m(\u001b[0m\u001b[0mpyproj\u001b[0m\u001b[0;34m.\u001b[0m\u001b[0mtransform\u001b[0m\u001b[0;34m,\u001b[0m \u001b[0mproj_in\u001b[0m\u001b[0;34m,\u001b[0m \u001b[0mproj_out\u001b[0m\u001b[0;34m)\u001b[0m\u001b[0;34m\u001b[0m\u001b[0m\n\u001b[1;32m    270\u001b[0m         \u001b[0mresult\u001b[0m \u001b[0;34m=\u001b[0m \u001b[0mself\u001b[0m\u001b[0;34m.\u001b[0m\u001b[0mapply\u001b[0m\u001b[0;34m(\u001b[0m\u001b[0;32mlambda\u001b[0m \u001b[0mgeom\u001b[0m\u001b[0;34m:\u001b[0m \u001b[0mtransform\u001b[0m\u001b[0;34m(\u001b[0m\u001b[0mproject\u001b[0m\u001b[0;34m,\u001b[0m \u001b[0mgeom\u001b[0m\u001b[0;34m)\u001b[0m\u001b[0;34m)\u001b[0m\u001b[0;34m\u001b[0m\u001b[0m\n",
        "\u001b[0;31mTypeError\u001b[0m: type object argument after ** must be a mapping, not int"
       ]
      }
     ],
     "prompt_number": 44
    },
    {
     "cell_type": "code",
     "collapsed": false,
     "input": [
      "print v.describe()\n",
      "net.plot(v, color=\"RdPu\", bbox)"
     ],
     "language": "python",
     "metadata": {},
     "outputs": [
      {
       "output_type": "stream",
       "stream": "stdout",
       "text": [
        "count    226060.000000\n",
        "mean          0.656317\n",
        "std           1.650835\n",
        "min           0.000000\n",
        "25%           0.000000\n",
        "50%           0.000000\n",
        "75%           0.511085\n",
        "max          23.524445\n",
        "dtype: float64\n"
       ]
      },
      {
       "metadata": {},
       "output_type": "display_data",
       "png": "[encoded data removed]",
       "text": [
        "<matplotlib.figure.Figure at 0x10a018790>"
       ]
      }
     ],
     "prompt_number": 23
    },
    {
     "cell_type": "code",
     "collapsed": false,
     "input": [],
     "language": "python",
     "metadata": {},
     "outputs": [],
     "prompt_number": 9
    }
   ],
   "metadata": {}
  }
 ]
}